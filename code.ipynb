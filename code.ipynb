{
 "cells": [
  {
   "cell_type": "markdown",
   "metadata": {},
   "source": [
    "# Installation"
   ]
  },
  {
   "cell_type": "code",
   "execution_count": null,
   "metadata": {},
   "outputs": [],
   "source": [
    "!pip install -r requirements.txt"
   ]
  },
  {
   "cell_type": "code",
   "execution_count": null,
   "metadata": {},
   "outputs": [],
   "source": [
    "pip install -i https://pypi.org/simple/ bitsandbytes"
   ]
  },
  {
   "cell_type": "code",
   "execution_count": 2,
   "metadata": {},
   "outputs": [
    {
     "name": "stdout",
     "output_type": "stream",
     "text": [
      "Python version: 3.11.9 | packaged by Anaconda, Inc. | (main, Apr 19 2024, 16:40:41) [MSC v.1916 64 bit (AMD64)]\n"
     ]
    }
   ],
   "source": [
    "import importlib.metadata\n",
    "import pickle\n",
    "import sys\n",
    "\n",
    "print('Python version:', sys.version)"
   ]
  },
  {
   "cell_type": "code",
   "execution_count": 3,
   "metadata": {},
   "outputs": [
    {
     "name": "stdout",
     "output_type": "stream",
     "text": [
      "llama-index : 0.10.30\n",
      "langchain : 0.1.16\n",
      "llama-index-embeddings-huggingface : 0.2.0\n",
      "llama_index.embeddings.langchain : 0.1.2\n"
     ]
    }
   ],
   "source": [
    "def print_package_version(package_name):\n",
    "    try:\n",
    "        version = importlib.metadata.version(package_name)\n",
    "        print(f\"{package_name} : {version}\")\n",
    "    except importlib.metadata.PackageNotFoundError:\n",
    "        print(f\"{package_name} is not installed.\")\n",
    "\n",
    "packages = [\n",
    "    \"llama-index\",\n",
    "    \"langchain\",\n",
    "    \"llama-index-embeddings-huggingface\",\n",
    "    \"llama_index.embeddings.langchain\"\n",
    "]\n",
    "\n",
    "for package in packages:\n",
    "    print_package_version(package)"
   ]
  },
  {
   "cell_type": "markdown",
   "metadata": {},
   "source": [
    "# Loading Documents"
   ]
  },
  {
   "cell_type": "markdown",
   "metadata": {},
   "source": [
    "Domain knowledge:"
   ]
  },
  {
   "cell_type": "code",
   "execution_count": 2,
   "metadata": {},
   "outputs": [
    {
     "name": "stdout",
     "output_type": "stream",
     "text": [
      "1. Irregular menstruation\n",
      "2. Sore throat\n",
      "3. Gastrointestinal disorders\n",
      "4. Bowel sounds\n",
      "5. Helicobacter infection\n",
      "6. Drowsiness\n",
      "7. Anemia\n",
      "8. Numbness of limbs\n",
      "9. Stomach pain\n",
      "10. Cramps\n",
      "11. Perianal pain\n",
      "12. Loose stools\n",
      "13. Swollen lymph nodes\n",
      "14. Bacterial infection\n",
      "15. Dysbiosis\n",
      "16. Shortness of breath\n",
      "17. Diarrhea, abdominal pain and bloating\n",
      "18. Frequency and urgency of urination\n",
      "19. Bitter mouth\n",
      "20. Allergies\n",
      "21. Indigestion\n",
      "22. Hemorrhoids\n",
      "23. Intestinal obstruction\n",
      "24. Melena\n",
      "25. Edema\n",
      "26. Dehydration\n",
      "27. Blood in the stool\n",
      "28. Heart palpitations\n",
      "29. Chest pain\n",
      "30. Chest pain\n",
      "31. Jaundice\n",
      "32. Reflux\n"
     ]
    }
   ],
   "source": [
    "import pickle\n",
    "\n",
    "with open('domain_knowledge.pkl', 'rb') as file:\n",
    "    domain_know = pickle.load(file)\n",
    "\n",
    "# Print each key\n",
    "for key in domain_know:\n",
    "    print(key)"
   ]
  },
  {
   "cell_type": "markdown",
   "metadata": {},
   "source": [
    "Disease List:"
   ]
  },
  {
   "cell_type": "code",
   "execution_count": 3,
   "metadata": {},
   "outputs": [
    {
     "name": "stdout",
     "output_type": "stream",
     "text": [
      "['Hunger', 'Abdominal bloating', 'Anemia', 'Bacterial infection', 'Weight loss', 'Loss of appetite', 'Mucus in stool', 'Menstrual irregularities', 'Diarrhea', 'Spasm', 'Throat burning sensation', 'Chest pain', 'Phlegm', 'Difficulty breathing', 'Jaundice', 'Hiccup', 'Sneeze', 'Hemorrhoids', 'Loose stools', 'Frequent urination', 'Headache', 'Urgent urination', 'Gastrointestinal discomfort', 'Shortness of breath', 'Chills', 'Heartburn', 'Sore throat', 'Nasal congestion', 'Indigestion', 'Back pain', 'Stomach ache', 'Perianal pain', 'Fatigue', 'Allergy', 'Bowel sounds', 'Cough', 'Dark stools', 'Vomiting', 'Muscle soreness', 'Dehydration', 'Intestinal obstruction', 'Nausea', 'Numbness in limbs', 'Fever', 'Restlessness', 'Vomiting blood', 'Dysbiosis', 'Drowsiness', 'Dizziness', 'Abdominal pain', 'Rectal bleeding', 'Palpitations', 'Mental fatigue', 'Helicobacter pylori infection', 'Reflux', 'Edema', 'Gastrointestinal dysfunction', 'Enlarged lymph nodes', 'Difficulty swallowing', 'Bitter taste in the mouth']\n"
     ]
    }
   ],
   "source": [
    "with open('disease_list.pkl', 'rb') as file:\n",
    "    disease_list = pickle.load(file)\n",
    "\n",
    "print(disease_list)"
   ]
  },
  {
   "cell_type": "markdown",
   "metadata": {},
   "source": [
    "Creating the Diagnostic Questions:"
   ]
  },
  {
   "cell_type": "code",
   "execution_count": 4,
   "metadata": {},
   "outputs": [
    {
     "data": {
      "text/plain": [
       "'Does the person described in the case have Hunger symptoms? Do you think it is serious?'"
      ]
     },
     "execution_count": 4,
     "metadata": {},
     "output_type": "execute_result"
    }
   ],
   "source": [
    "def diagnostic_question_gen(disease_list):\n",
    "\n",
    "  diagnostic_qs = [\n",
    "      f\"Does the person described in the case have {disease} symptoms? Do you think it is serious?\"\n",
    "      for disease in disease_list\n",
    "  ]\n",
    "  return diagnostic_qs\n",
    "\n",
    "diagnostic_queestions = diagnostic_question_gen(disease_list)\n",
    "diagnostic_queestions[0]"
   ]
  },
  {
   "cell_type": "markdown",
   "metadata": {},
   "source": [
    "# Retrieval"
   ]
  },
  {
   "cell_type": "markdown",
   "metadata": {},
   "source": [
    "2- Retriving the most related domain knowledge:"
   ]
  },
  {
   "cell_type": "code",
   "execution_count": 8,
   "metadata": {},
   "outputs": [],
   "source": [
    "from sentence_transformers import SentenceTransformer\n",
    "\n",
    "# Diagnostic question\n",
    "diag_q = diagnostic_queestions[0]\n",
    "\n",
    "# Number of similar kownledge paragraphs\n",
    "k = 2\n",
    "\n",
    "# Embedding model\n",
    "model = SentenceTransformer(\"all-mpnet-base-v2\")"
   ]
  },
  {
   "cell_type": "markdown",
   "metadata": {},
   "source": [
    "## Cosine Similarity based Retrieval"
   ]
  },
  {
   "cell_type": "code",
   "execution_count": 86,
   "metadata": {},
   "outputs": [],
   "source": [
    "import torch\n",
    "from sklearn.metrics.pairwise import cosine_similarity\n",
    "from sentence_transformers import SentenceTransformer\n",
    "\n",
    "def retrieval_know_cosine(diag_q, domain_know, k):\n",
    "\n",
    "    # Encode the diagnostic question\n",
    "    diag_q_emb = model.encode(diag_q)\n",
    "\n",
    "    # Prepare to store domain knowledge embeddings and their corresponding keys\n",
    "    domain_know_embs = []\n",
    "    symptom_names = list(domain_know.keys())\n",
    "\n",
    "    # Encode each paragraph of domain knowledge\n",
    "    for symptom in symptom_names:\n",
    "        emb = model.encode(domain_know[symptom])\n",
    "        domain_know_embs.append(emb)\n",
    "\n",
    "    # Calculate cosine similarity between the diagnostic question and each domain knowledge embedding\n",
    "    similarities = cosine_similarity([diag_q_emb], domain_know_embs)[0]\n",
    "\n",
    "    # Get the indices of the top-k most similar paragraphs\n",
    "    top_indices = similarities.argsort()[-k:][::-1]\n",
    "\n",
    "    # Retrieve the top-k most similar paragraphs using the indices\n",
    "    top_symptoms = [(symptom_names[idx], domain_know[symptom_names[idx]], similarities[idx]) for idx in top_indices]\n",
    "\n",
    "    return top_symptoms\n"
   ]
  },
  {
   "cell_type": "code",
   "execution_count": 87,
   "metadata": {},
   "outputs": [
    {
     "name": "stdout",
     "output_type": "stream",
     "text": [
      "Symptom: 3. Gastrointestinal disorders, Similarity: 0.45307421684265137\n",
      "Text: It is a type of gastrointestinal disease. Some patients often do not pay enough attention to it and do not go to the hospital for diagnosis and treatment in time, causing great harm to themselves. So, what are gastrointestinal disorders? What are the symptoms of gastrointestinal disorders? A doctor from Chongqing Dongda Anorectal Hospital said that gastrointestinal dysfunction, also known as gastrointestinal neurosis, is a functional disease. It is generally believed that mental factors are the main causes of this disease, such as emotional stress, anxiety, difficulties in life and work, worries, accidents, etc., which can lead to abnormal gastrointestinal function and further cause gastrointestinal dysfunction. Most gastrointestinal disorders have a slow onset, often last for years, and may be persistent or recurring. People suffering from gastrointestinal disorders often present with acid reflux, belching, anorexia, nausea, vomiting, burning sensation under the chest, bloating after eating, and obvious upper abdominal discomfort or pain. Such symptoms will be significantly aggravated when mood changes. Why you suffer from gastrointestinal dysfunction: (1) Diet. Excessive diet, irritating food, unclean diet, indigestible food, allergic food, hard food and unsuitable food may induce or aggravate gastrointestinal dysfunction. Food is a common cause of gastrointestinal dysfunction. (2) Catching cold can easily induce and aggravate gastrointestinal spasms. Especially emaciated people are prone to catching cold. Some people are particularly sensitive to cold. Turning on a little air conditioning in summer, staying in a north-facing room or sitting on a cold bench in winter will all cause problems. Abdominal pain, borborygmi, and diarrhea occur. (3) Work. Excessive fatigue, heavy tasks, overloaded movements; long-term work pressure, fatigue, overtime, etc., insufficient rest time and irregular life, irregular meals, skipping breakfast in the morning, staying up late, etc., over time, gastrointestinal function will occur disorder. Harm of gastrointestinal dysfunction: Symptoms such as gastric bloating, burping, acidity, and heartburn may occur; frequent diarrhea can reduce the body’s resistance and weaken the body’s resistance to infectious diseases and various infections; repeated diarrhea can stimulate Intestinal mucosa can cause intestinal mucosal lesions, such as transforming into ulcerative colitis or even malignant transformation; it seriously affects the patient's quality of life and has a certain impact on the patient's life and work. Some patients even dare not do so due to frequent abdominal pain and diarrhea. Or unable to go to work normally; gastrointestinal dysfunction can cause malabsorption of nutrients, anemia and vitamin deficiency.\n",
      "\n",
      "Symptom: 32. Reflux, Similarity: 0.31067904829978943\n",
      "Text: Reflux is the backflow of stomach acid and digestive juices from the stomach into the esophagus. This condition may cause damage to the esophageal mucosa, causing pain and discomfort. Common reflux symptoms include a burning sensation in the chest, a sour or bitter taste in the back of the mouth, cough, and sore throat. Gastroesophageal reflux disease (GERD) is a chronic acid reflux disease that may cause inflammation and damage to the esophagus. The causes of GERD include gastroptosis, esophageal sphincter relaxation, and abnormal esophageal peristalsis function. Here are some common ways to diagnose and treat gastroesophageal reflux disease: Diagnosis: History and Symptom Assessment: Your doctor will ask about your symptoms and medical history, such as a burning sensation in your chest, a sour taste after the flu, etc. Physical exam: Your doctor may perform a physical exam to rule out other possible illnesses. Examination: such as gastroscopy, esophageal acidity measurement, X-ray examination, etc. to evaluate the condition of the esophagus and stomach.\n",
      "\n"
     ]
    }
   ],
   "source": [
    "results1 = retrieval_know_cosine(diag_q, domain_know, k)\n",
    "\n",
    "for symptom, text, similarity in results1:\n",
    "    print(f\"Symptom: {symptom}, Similarity: {similarity}\\nText: {text}\\n\")"
   ]
  },
  {
   "cell_type": "markdown",
   "metadata": {},
   "source": [
    "## Hopfield Retrieval Model"
   ]
  },
  {
   "cell_type": "code",
   "execution_count": 5,
   "metadata": {},
   "outputs": [],
   "source": [
    "from hflayers import Hopfield, HopfieldPooling, HopfieldLayer\n",
    "from sentence_transformers import SentenceTransformer\n",
    "import torch.nn.functional as F\n",
    "import torch.nn as nn\n",
    "import torch\n",
    "\n",
    "class HopfieldRetrievalModel(nn.Module):\n",
    "    def __init__(self, beta=0.125, update_steps_max=3):\n",
    "        super(HopfieldRetrievalModel, self).__init__()\n",
    "        self.hopfield = Hopfield(\n",
    "            scaling=beta,\n",
    "            update_steps_max=update_steps_max,\n",
    "            update_steps_eps=1e-5,\n",
    "            state_pattern_as_static=True,\n",
    "            stored_pattern_as_static=True,\n",
    "            pattern_projection_as_static=True,\n",
    "            normalize_stored_pattern=False,\n",
    "            normalize_stored_pattern_affine=False,\n",
    "            normalize_state_pattern=False,\n",
    "            normalize_state_pattern_affine=False,\n",
    "            normalize_pattern_projection=False,\n",
    "            normalize_pattern_projection_affine=False,\n",
    "            disable_out_projection=True)\n",
    "\n",
    "    def forward(self, memory, trg):\n",
    "        memory = torch.unsqueeze(memory, 0)\n",
    "        trg = torch.unsqueeze(trg, 0)\n",
    "        output = self.hopfield((memory, trg, memory))\n",
    "        output = output.squeeze(0)\n",
    "        memories = memory.squeeze(0)\n",
    "        pair_list = F.normalize(output) @ F.normalize(memories).t()\n",
    "        return pair_list"
   ]
  },
  {
   "cell_type": "code",
   "execution_count": 6,
   "metadata": {},
   "outputs": [],
   "source": [
    "def retrieval_know_hopfield(diag_q, domain_know, k):\n",
    "    device = torch.device(\"cuda\" if torch.cuda.is_available() else \"cpu\")\n",
    "    \n",
    "    retrieval_model = HopfieldRetrievalModel().to(device)\n",
    "    \n",
    "    # Encode the diagnostic question and move to device\n",
    "    diag_q_emb = torch.tensor(model.encode([diag_q])).to(device)\n",
    "    \n",
    "    # Encode domain knowledge and move to device\n",
    "    domain_know_embs = [torch.tensor(model.encode([domain_know[symptom]])) for symptom in domain_know.keys()]\n",
    "    domain_know_embs = torch.stack(domain_know_embs).squeeze(1).to(device)\n",
    "    \n",
    "    # Calculate the retrieval scores using the Hopfield model\n",
    "    result = retrieval_model(domain_know_embs * 100, diag_q_emb * 100)\n",
    "    input_ids = torch.topk(result, k, dim=1).indices.squeeze(0)\n",
    "    \n",
    "    # Retrieve the top-k most similar paragraphs\n",
    "    symptom_names = list(domain_know.keys())\n",
    "    top_symptoms = [(symptom_names[idx], domain_know[symptom_names[idx]], result[0, idx].item()) for idx in input_ids]\n",
    "    \n",
    "    return top_symptoms"
   ]
  },
  {
   "cell_type": "code",
   "execution_count": 9,
   "metadata": {},
   "outputs": [
    {
     "name": "stdout",
     "output_type": "stream",
     "text": [
      "Symptom: 3. Gastrointestinal disorders, Similarity: 0.9999999403953552\n",
      "Text: It is a type of gastrointestinal disease. Some patients often do not pay enough attention to it and do not go to the hospital for diagnosis and treatment in time, causing great harm to themselves. So, what are gastrointestinal disorders? What are the symptoms of gastrointestinal disorders? A doctor from Chongqing Dongda Anorectal Hospital said that gastrointestinal dysfunction, also known as gastrointestinal neurosis, is a functional disease. It is generally believed that mental factors are the main causes of this disease, such as emotional stress, anxiety, difficulties in life and work, worries, accidents, etc., which can lead to abnormal gastrointestinal function and further cause gastrointestinal dysfunction. Most gastrointestinal disorders have a slow onset, often last for years, and may be persistent or recurring. People suffering from gastrointestinal disorders often present with acid reflux, belching, anorexia, nausea, vomiting, burning sensation under the chest, bloating after eating, and obvious upper abdominal discomfort or pain. Such symptoms will be significantly aggravated when mood changes. Why you suffer from gastrointestinal dysfunction: (1) Diet. Excessive diet, irritating food, unclean diet, indigestible food, allergic food, hard food and unsuitable food may induce or aggravate gastrointestinal dysfunction. Food is a common cause of gastrointestinal dysfunction. (2) Catching cold can easily induce and aggravate gastrointestinal spasms. Especially emaciated people are prone to catching cold. Some people are particularly sensitive to cold. Turning on a little air conditioning in summer, staying in a north-facing room or sitting on a cold bench in winter will all cause problems. Abdominal pain, borborygmi, and diarrhea occur. (3) Work. Excessive fatigue, heavy tasks, overloaded movements; long-term work pressure, fatigue, overtime, etc., insufficient rest time and irregular life, irregular meals, skipping breakfast in the morning, staying up late, etc., over time, gastrointestinal function will occur disorder. Harm of gastrointestinal dysfunction: Symptoms such as gastric bloating, burping, acidity, and heartburn may occur; frequent diarrhea can reduce the body’s resistance and weaken the body’s resistance to infectious diseases and various infections; repeated diarrhea can stimulate Intestinal mucosa can cause intestinal mucosal lesions, such as transforming into ulcerative colitis or even malignant transformation; it seriously affects the patient's quality of life and has a certain impact on the patient's life and work. Some patients even dare not do so due to frequent abdominal pain and diarrhea. Or unable to go to work normally; gastrointestinal dysfunction can cause malabsorption of nutrients, anemia and vitamin deficiency.\n",
      "\n",
      "Symptom: 21. Indigestion, Similarity: 0.6422056555747986\n",
      "Text: It refers to abnormal function of the digestive system or discomfort during digestion. Common indigestion symptoms include bloating, abdominal pain, nausea, vomiting, fullness, heartburn, etc. There are many causes of indigestion, which may be related to eating habits, lifestyle, digestive system diseases, etc. Here are some common causes of indigestion: Eating habits: Overeating, eating too fast, overeating, and insufficient intake of high-fat, high-fiber foods can all lead to indigestion. Lifestyle: Remaining sedentary for long periods of time, lack of exercise, lack of sleep, excessive tension and stress can have a negative impact on the digestive system. Digestive disorders: Digestive disorders such as gastric ulcers, gastroesophageal reflux disease, cholecystitis, gallstones, and pancreatitis may cause indigestion symptoms. Drugs and Chemicals: Certain drugs, alcohol, caffeine, and other substances may irritate or negatively affect the digestive system.\n",
      "\n"
     ]
    }
   ],
   "source": [
    "results = retrieval_know_hopfield(diag_q, domain_know, k)\n",
    "\n",
    "for symptom, text, similarity in results:\n",
    "    print(f\"Symptom: {symptom}, Similarity: {similarity}\\nText: {text}\\n\")"
   ]
  },
  {
   "cell_type": "markdown",
   "metadata": {},
   "source": [
    "# Prompt generation"
   ]
  },
  {
   "cell_type": "code",
   "execution_count": 83,
   "metadata": {},
   "outputs": [],
   "source": [
    "def generate_prompt(patient_id, domain_know, diag_q, k):\n",
    "    patient_id_str = str(patient_id)\n",
    "    # Construct the file path\n",
    "    sample_report_path = f\"./dataset_folder/health_report_{{{patient_id_str}}}/health_report_{{{patient_id_str}}}.txt\"\n",
    "    print(\"Prompt generating for:\", sample_report_path)  # Debugging line\n",
    "\n",
    "    # Read the medical report from the file\n",
    "    try:\n",
    "        with open(sample_report_path, 'r', encoding='utf-8') as file:\n",
    "            medical_report = file.read()\n",
    "    except FileNotFoundError:\n",
    "        return \"Error: The medical report file was not found.\"\n",
    "    except Exception as e:\n",
    "        return f\"Error: {str(e)}\"\n",
    "\n",
    "    related_documents = retrieval_know_hopfield(diag_q, domain_know, k)\n",
    "    related_knowledge = \"\\n\".join([f\"{doc[0]}: {doc[1]}\" for doc in related_documents])\n",
    "\n",
    "    # Assemble the prompt\n",
    "    prompt = (\n",
    "        \"Here is some additional professional health knowledge that can help you better analyze the report:\\n\"\n",
    "        \"----------------------------------------------------------------------\\n\"\n",
    "        f\"{related_knowledge}\\n\"\n",
    "        \"----------------------------------------------------------------------\\n\"\n",
    "        \"This is a patient’s medical record. Context information:\\n\"\n",
    "        \"----------------------------------------------------------------------\\n\"\n",
    "        f\"{medical_report}\\n\"\n",
    "        \"----------------------------------------------------------------------\\n\"\n",
    "        \"Given the context and health knowledge, answer the below question by only one answer in JSON format with only one floating point number between 0 and 1 that is “score”. :\\n\"\n",
    "        f\"{diag_q}\\n\"\n",
    "        \"The rule of the JSON answer: 0-0.2 is mild or none, 0.3-0.6 is moderate, and above 0.7 is severe.\\n\"\n",
    "    )\n",
    "\n",
    "    return prompt\n"
   ]
  },
  {
   "cell_type": "markdown",
   "metadata": {},
   "source": [
    "Sample usage:"
   ]
  },
  {
   "cell_type": "code",
   "execution_count": null,
   "metadata": {},
   "outputs": [],
   "source": [
    "# Example usage\n",
    "patient_id = 0\n",
    "diag_q = diagnostic_queestions[0]\n",
    "k = 2\n",
    "\n",
    "prompt = generate_prompt(patient_id, domain_know, diag_q, k)\n",
    "print(prompt)"
   ]
  },
  {
   "cell_type": "markdown",
   "metadata": {},
   "source": [
    "Over the whole dataset:"
   ]
  },
  {
   "cell_type": "code",
   "execution_count": 10,
   "metadata": {},
   "outputs": [],
   "source": [
    "def generate_prompt(medical_report, domain_know, diag_q, k):\n",
    "    # Retrieve related documents using the Hopfield model\n",
    "    related_documents = retrieval_know_hopfield(diag_q, domain_know, k)\n",
    "    related_knowledge = \"\\n\".join([f\"{doc[0]}: {doc[1]}\" for doc in related_documents])\n",
    "\n",
    "    # Assemble the prompt\n",
    "    prompt = (\n",
    "        \"Here is some additional professional health knowledge that can help you better analyze the report:\\n\"\n",
    "        \"----------------------------------------------------------------------\\n\"\n",
    "        f\"{related_knowledge}\\n\"\n",
    "        \"----------------------------------------------------------------------\\n\"\n",
    "        \"This is a patient’s medical record. Context information:\\n\"\n",
    "        \"----------------------------------------------------------------------\\n\"\n",
    "        f\"{medical_report}\\n\"\n",
    "        \"----------------------------------------------------------------------\\n\"\n",
    "        \"Given the context and health knowledge, answer the below question by only one answer in JSON format with only one floating point number between 0 and 1 that is “score”. :\\n\"\n",
    "        f\"{diag_q}\\n\"\n",
    "        \"The rule of the JSON answer: 0-0.2 is mild or none, 0.3-0.6 is moderate, and above 0.7 is severe.\\n\"\n",
    "    )\n",
    "\n",
    "    return prompt\n"
   ]
  },
  {
   "cell_type": "code",
   "execution_count": 13,
   "metadata": {},
   "outputs": [
    {
     "name": "stdout",
     "output_type": "stream",
     "text": [
      "Prompt generation for: health_report_{0}\n",
      "Prompt generation for: health_report_{10}\n",
      "Prompt generation for: health_report_{11}\n",
      "Prompt generation for: health_report_{12}\n",
      "Prompt generation for: health_report_{13}\n",
      "Prompt generation for: health_report_{14}\n",
      "Prompt generation for: health_report_{15}\n",
      "Prompt generation for: health_report_{16}\n",
      "Prompt generation for: health_report_{17}\n",
      "Prompt generation for: health_report_{18}\n",
      "Prompt generation for: health_report_{19}\n",
      "Prompt generation for: health_report_{1}\n",
      "Prompt generation for: health_report_{20}\n",
      "Prompt generation for: health_report_{21}\n",
      "Prompt generation for: health_report_{22}\n",
      "Prompt generation for: health_report_{23}\n",
      "Prompt generation for: health_report_{24}\n",
      "Prompt generation for: health_report_{25}\n",
      "Prompt generation for: health_report_{26}\n",
      "Prompt generation for: health_report_{28}\n",
      "Prompt generation for: health_report_{29}\n",
      "Prompt generation for: health_report_{2}\n",
      "Prompt generation for: health_report_{30}\n",
      "Prompt generation for: health_report_{31}\n",
      "Prompt generation for: health_report_{32}\n",
      "Prompt generation for: health_report_{33}\n",
      "Prompt generation for: health_report_{34}\n",
      "Prompt generation for: health_report_{35}\n",
      "Prompt generation for: health_report_{36}\n",
      "Prompt generation for: health_report_{37}\n",
      "Prompt generation for: health_report_{38}\n",
      "Prompt generation for: health_report_{39}\n",
      "Prompt generation for: health_report_{3}\n",
      "Prompt generation for: health_report_{40}\n",
      "Prompt generation for: health_report_{41}\n",
      "Prompt generation for: health_report_{42}\n",
      "Prompt generation for: health_report_{43}\n",
      "Prompt generation for: health_report_{44}\n",
      "Prompt generation for: health_report_{45}\n",
      "Prompt generation for: health_report_{46}\n",
      "Prompt generation for: health_report_{47}\n",
      "Prompt generation for: health_report_{48}\n",
      "Prompt generation for: health_report_{49}\n",
      "Prompt generation for: health_report_{4}\n",
      "Prompt generation for: health_report_{50}\n",
      "Prompt generation for: health_report_{51}\n",
      "Prompt generation for: health_report_{52}\n",
      "Prompt generation for: health_report_{53}\n",
      "Prompt generation for: health_report_{54}\n",
      "Prompt generation for: health_report_{55}\n",
      "Prompt generation for: health_report_{56}\n",
      "Prompt generation for: health_report_{57}\n",
      "Prompt generation for: health_report_{58}\n",
      "Prompt generation for: health_report_{59}\n",
      "Prompt generation for: health_report_{5}\n",
      "Prompt generation for: health_report_{60}\n",
      "Prompt generation for: health_report_{61}\n",
      "Prompt generation for: health_report_{62}\n",
      "Prompt generation for: health_report_{63}\n",
      "Prompt generation for: health_report_{65}\n",
      "Prompt generation for: health_report_{66}\n",
      "Prompt generation for: health_report_{67}\n",
      "Prompt generation for: health_report_{68}\n",
      "Prompt generation for: health_report_{69}\n",
      "Prompt generation for: health_report_{6}\n",
      "Prompt generation for: health_report_{70}\n",
      "Prompt generation for: health_report_{71}\n",
      "Prompt generation for: health_report_{72}\n",
      "Prompt generation for: health_report_{73}\n",
      "Prompt generation for: health_report_{74}\n",
      "Prompt generation for: health_report_{75}\n",
      "Prompt generation for: health_report_{7}\n",
      "Prompt generation for: health_report_{8}\n",
      "Prompt generation for: health_report_{9}\n",
      "CPU times: total: 42min 3s\n",
      "Wall time: 1h 5min 44s\n"
     ]
    }
   ],
   "source": [
    "%%time \n",
    "import os\n",
    "import glob\n",
    "\n",
    "base_dir = \"dataset_folder\" \n",
    "pattern = os.path.join(base_dir, \"health_report_*\")\n",
    "diagnostic_questions = diagnostic_question_gen(disease_list)\n",
    "\n",
    "prompts = {}\n",
    "\n",
    "# Iterate over each directory matching the pattern\n",
    "for directory in glob.glob(pattern):\n",
    "    file_name = os.path.basename(directory)\n",
    "    report_path = os.path.join(directory, file_name + \".txt\")\n",
    "    \n",
    "    # Read the medical report\n",
    "    with open(report_path, 'r', encoding='utf-8') as file:\n",
    "        medical_report = file.read()\n",
    "\n",
    "    print(\"Prompt generation for:\", file_name)  # Debugging line\n",
    "    \n",
    "    prompts[file_name] = []\n",
    "    for diag_q in diagnostic_questions:\n",
    "        prompt = generate_prompt(medical_report, domain_know, diag_q, k)\n",
    "        \n",
    "        # Store or process the prompt as needed\n",
    "        prompts[file_name].append(prompt)\n"
   ]
  },
  {
   "cell_type": "code",
   "execution_count": null,
   "metadata": {},
   "outputs": [
    {
     "name": "stdout",
     "output_type": "stream",
     "text": [
      "dataset_folder\\health_report_{0}\\health_report_{0}.txt\n",
      "dataset_folder\\health_report_{10}\\health_report_{10}.txt\n",
      "dataset_folder\\health_report_{11}\\health_report_{11}.txt\n",
      "dataset_folder\\health_report_{12}\\health_report_{12}.txt\n",
      "dataset_folder\\health_report_{13}\\health_report_{13}.txt\n",
      "dataset_folder\\health_report_{14}\\health_report_{14}.txt\n",
      "dataset_folder\\health_report_{15}\\health_report_{15}.txt\n",
      "dataset_folder\\health_report_{16}\\health_report_{16}.txt\n",
      "dataset_folder\\health_report_{17}\\health_report_{17}.txt\n",
      "dataset_folder\\health_report_{18}\\health_report_{18}.txt\n",
      "dataset_folder\\health_report_{19}\\health_report_{19}.txt\n",
      "dataset_folder\\health_report_{1}\\health_report_{1}.txt\n",
      "dataset_folder\\health_report_{20}\\health_report_{20}.txt\n",
      "dataset_folder\\health_report_{21}\\health_report_{21}.txt\n",
      "dataset_folder\\health_report_{22}\\health_report_{22}.txt\n",
      "dataset_folder\\health_report_{23}\\health_report_{23}.txt\n",
      "dataset_folder\\health_report_{24}\\health_report_{24}.txt\n",
      "dataset_folder\\health_report_{25}\\health_report_{25}.txt\n",
      "dataset_folder\\health_report_{26}\\health_report_{26}.txt\n",
      "dataset_folder\\health_report_{28}\\health_report_{28}.txt\n",
      "dataset_folder\\health_report_{29}\\health_report_{29}.txt\n",
      "dataset_folder\\health_report_{2}\\health_report_{2}.txt\n",
      "dataset_folder\\health_report_{30}\\health_report_{30}.txt\n",
      "dataset_folder\\health_report_{31}\\health_report_{31}.txt\n",
      "dataset_folder\\health_report_{32}\\health_report_{32}.txt\n",
      "dataset_folder\\health_report_{33}\\health_report_{33}.txt\n",
      "dataset_folder\\health_report_{34}\\health_report_{34}.txt\n",
      "dataset_folder\\health_report_{35}\\health_report_{35}.txt\n",
      "dataset_folder\\health_report_{36}\\health_report_{36}.txt\n",
      "dataset_folder\\health_report_{37}\\health_report_{37}.txt\n",
      "dataset_folder\\health_report_{38}\\health_report_{38}.txt\n",
      "dataset_folder\\health_report_{39}\\health_report_{39}.txt\n",
      "dataset_folder\\health_report_{3}\\health_report_{3}.txt\n",
      "dataset_folder\\health_report_{40}\\health_report_{40}.txt\n",
      "dataset_folder\\health_report_{41}\\health_report_{41}.txt\n",
      "dataset_folder\\health_report_{42}\\health_report_{42}.txt\n",
      "dataset_folder\\health_report_{43}\\health_report_{43}.txt\n",
      "dataset_folder\\health_report_{44}\\health_report_{44}.txt\n",
      "dataset_folder\\health_report_{45}\\health_report_{45}.txt\n",
      "dataset_folder\\health_report_{46}\\health_report_{46}.txt\n",
      "dataset_folder\\health_report_{47}\\health_report_{47}.txt\n",
      "dataset_folder\\health_report_{48}\\health_report_{48}.txt\n",
      "dataset_folder\\health_report_{49}\\health_report_{49}.txt\n",
      "dataset_folder\\health_report_{4}\\health_report_{4}.txt\n",
      "dataset_folder\\health_report_{50}\\health_report_{50}.txt\n",
      "dataset_folder\\health_report_{51}\\health_report_{51}.txt\n",
      "dataset_folder\\health_report_{52}\\health_report_{52}.txt\n",
      "dataset_folder\\health_report_{53}\\health_report_{53}.txt\n",
      "dataset_folder\\health_report_{54}\\health_report_{54}.txt\n",
      "dataset_folder\\health_report_{55}\\health_report_{55}.txt\n",
      "dataset_folder\\health_report_{56}\\health_report_{56}.txt\n",
      "dataset_folder\\health_report_{57}\\health_report_{57}.txt\n",
      "dataset_folder\\health_report_{58}\\health_report_{58}.txt\n",
      "dataset_folder\\health_report_{59}\\health_report_{59}.txt\n",
      "dataset_folder\\health_report_{5}\\health_report_{5}.txt\n",
      "dataset_folder\\health_report_{60}\\health_report_{60}.txt\n",
      "dataset_folder\\health_report_{61}\\health_report_{61}.txt\n",
      "dataset_folder\\health_report_{62}\\health_report_{62}.txt\n",
      "dataset_folder\\health_report_{63}\\health_report_{63}.txt\n",
      "dataset_folder\\health_report_{65}\\health_report_{65}.txt\n",
      "dataset_folder\\health_report_{66}\\health_report_{66}.txt\n",
      "dataset_folder\\health_report_{67}\\health_report_{67}.txt\n",
      "dataset_folder\\health_report_{68}\\health_report_{68}.txt\n",
      "dataset_folder\\health_report_{69}\\health_report_{69}.txt\n",
      "dataset_folder\\health_report_{6}\\health_report_{6}.txt\n",
      "dataset_folder\\health_report_{70}\\health_report_{70}.txt\n",
      "dataset_folder\\health_report_{71}\\health_report_{71}.txt\n",
      "dataset_folder\\health_report_{72}\\health_report_{72}.txt\n",
      "dataset_folder\\health_report_{73}\\health_report_{73}.txt\n",
      "dataset_folder\\health_report_{74}\\health_report_{74}.txt\n",
      "dataset_folder\\health_report_{75}\\health_report_{75}.txt\n",
      "dataset_folder\\health_report_{7}\\health_report_{7}.txt\n",
      "dataset_folder\\health_report_{8}\\health_report_{8}.txt\n",
      "dataset_folder\\health_report_{9}\\health_report_{9}.txt\n"
     ]
    }
   ],
   "source": [
    "for key in prompts.keys():\n",
    "    print(key)"
   ]
  },
  {
   "cell_type": "code",
   "execution_count": 16,
   "metadata": {},
   "outputs": [],
   "source": [
    "with open( 'generated_prompts.pkl', 'wb') as file:\n",
    "    pickle.dump(prompts, file)"
   ]
  },
  {
   "cell_type": "markdown",
   "metadata": {},
   "source": [
    "# Response Generation "
   ]
  },
  {
   "cell_type": "code",
   "execution_count": 19,
   "metadata": {},
   "outputs": [
    {
     "data": {
      "text/plain": [
       "\"Here is some additional professional health knowledge that can help you better analyze the report:\\n----------------------------------------------------------------------\\n3. Gastrointestinal disorders: It is a type of gastrointestinal disease. Some patients often do not pay enough attention to it and do not go to the hospital for diagnosis and treatment in time, causing great harm to themselves. So, what are gastrointestinal disorders? What are the symptoms of gastrointestinal disorders? A doctor from Chongqing Dongda Anorectal Hospital said that gastrointestinal dysfunction, also known as gastrointestinal neurosis, is a functional disease. It is generally believed that mental factors are the main causes of this disease, such as emotional stress, anxiety, difficulties in life and work, worries, accidents, etc., which can lead to abnormal gastrointestinal function and further cause gastrointestinal dysfunction. Most gastrointestinal disorders have a slow onset, often last for years, and may be persistent or recurring. People suffering from gastrointestinal disorders often present with acid reflux, belching, anorexia, nausea, vomiting, burning sensation under the chest, bloating after eating, and obvious upper abdominal discomfort or pain. Such symptoms will be significantly aggravated when mood changes. Why you suffer from gastrointestinal dysfunction: (1) Diet. Excessive diet, irritating food, unclean diet, indigestible food, allergic food, hard food and unsuitable food may induce or aggravate gastrointestinal dysfunction. Food is a common cause of gastrointestinal dysfunction. (2) Catching cold can easily induce and aggravate gastrointestinal spasms. Especially emaciated people are prone to catching cold. Some people are particularly sensitive to cold. Turning on a little air conditioning in summer, staying in a north-facing room or sitting on a cold bench in winter will all cause problems. Abdominal pain, borborygmi, and diarrhea occur. (3) Work. Excessive fatigue, heavy tasks, overloaded movements; long-term work pressure, fatigue, overtime, etc., insufficient rest time and irregular life, irregular meals, skipping breakfast in the morning, staying up late, etc., over time, gastrointestinal function will occur disorder. Harm of gastrointestinal dysfunction: Symptoms such as gastric bloating, burping, acidity, and heartburn may occur; frequent diarrhea can reduce the body’s resistance and weaken the body’s resistance to infectious diseases and various infections; repeated diarrhea can stimulate Intestinal mucosa can cause intestinal mucosal lesions, such as transforming into ulcerative colitis or even malignant transformation; it seriously affects the patient's quality of life and has a certain impact on the patient's life and work. Some patients even dare not do so due to frequent abdominal pain and diarrhea. Or unable to go to work normally; gastrointestinal dysfunction can cause malabsorption of nutrients, anemia and vitamin deficiency.\\n21. Indigestion: It refers to abnormal function of the digestive system or discomfort during digestion. Common indigestion symptoms include bloating, abdominal pain, nausea, vomiting, fullness, heartburn, etc. There are many causes of indigestion, which may be related to eating habits, lifestyle, digestive system diseases, etc. Here are some common causes of indigestion: Eating habits: Overeating, eating too fast, overeating, and insufficient intake of high-fat, high-fiber foods can all lead to indigestion. Lifestyle: Remaining sedentary for long periods of time, lack of exercise, lack of sleep, excessive tension and stress can have a negative impact on the digestive system. Digestive disorders: Digestive disorders such as gastric ulcers, gastroesophageal reflux disease, cholecystitis, gallstones, and pancreatitis may cause indigestion symptoms. Drugs and Chemicals: Certain drugs, alcohol, caffeine, and other substances may irritate or negatively affect the digestive system.\\n----------------------------------------------------------------------\\nThis is a patient’s medical record. Context information:\\n----------------------------------------------------------------------\\nHello, there is a pain around the navel, I don’t know what's going on (female, 29 years old)\\nHello, how long has this situation?\\nTwo or three days.\\nIt hurts, and it will not hurt for a while.\\nHave you used any medicine?Have you ever done?\\nThere is no medication and no examination.\\nIs the stool normal?\\nnormal.\\nAre there any other symptoms?Do you want to vomit?\\nNo.\\nIs it faint pain?\\nOnce appetite, a little bit bloated.\\nIt may be gastrointestinal dysfunction.\\nYes, faint pain.\\nEat some song Meibing Try.relative.\\nIt felt like a needle was tied, and it was fine for a few seconds.\\nIt feels that the problem is not particularly big.\\nTry it if you take the medicine I said.\\nIs there a compound fairy crane grassyitis tablet at home?\\nThis is mainly to treat diarrhea.Don't eat without diarrhea.\\nOh, alright.\\nUh-huh.\\nWhich aspect can cause gastrointestinal function.\\nIt may be that the diet may be a mental factor or the autoimmune system.\\nIt may also be the digestive system of autoimmune system.relative.\\nOK\\nUh-huh.\\nIt seemed a bit like a diarrhea. After eating 1 at noon, I wanted to pull it after a while, and I was a little bit pulled.\\nYou can eat the medicine you said.\\nOh well.\\nUh-huh.\\n----------------------------------------------------------------------\\nGiven the context and health knowledge, answer the below question by only one answer in JSON format with only one floating point number between 0 and 1 that is “score”. :\\nDoes the person described in the case have Hunger symptoms? Do you think it is serious?\\nThe rule of the JSON answer: 0-0.2 is mild or none, 0.3-0.6 is moderate, and above 0.7 is severe.\\n\""
      ]
     },
     "execution_count": 19,
     "metadata": {},
     "output_type": "execute_result"
    }
   ],
   "source": [
    "import pickle\n",
    "\n",
    "with open('generated_prompts.pkl', 'rb') as file: prompts = pickle.load(file)\n",
    "\n",
    "sample_prompt = prompts['health_report_{0}'][0]\n",
    "sample_prompt"
   ]
  },
  {
   "cell_type": "markdown",
   "metadata": {},
   "source": [
    "**If your torch can't detect you GPU, execute this in the terminal:**\n",
    "\n",
    "- pip uninstall torch torchvision torchaudio\n",
    "- pip install torch torchvision torchaudio --index-url https://download.pytorch.org/whl/cu121"
   ]
  },
  {
   "cell_type": "code",
   "execution_count": null,
   "metadata": {},
   "outputs": [],
   "source": [
    "pip install gputil"
   ]
  },
  {
   "cell_type": "code",
   "execution_count": 10,
   "metadata": {},
   "outputs": [
    {
     "name": "stdout",
     "output_type": "stream",
     "text": [
      "GPU Model: NVIDIA GeForce RTX 3060\n",
      "Total GPU Memory: 12.00 GB\n"
     ]
    }
   ],
   "source": [
    "import GPUtil\n",
    "\n",
    "for gpu in GPUtil.getGPUs():\n",
    "    print(f\"GPU Model: {gpu.name}\")\n",
    "    print(f\"Total GPU Memory: {gpu.memoryTotal / 1024:.2f} GB\")\n"
   ]
  },
  {
   "cell_type": "code",
   "execution_count": 11,
   "metadata": {},
   "outputs": [
    {
     "name": "stdout",
     "output_type": "stream",
     "text": [
      "torch + cuda: 2.2.2+cu121\n",
      "Is cuda avialable: True\n"
     ]
    }
   ],
   "source": [
    "import torch\n",
    "\n",
    "print(\"torch + cuda:\", torch.__version__) # Check PyTorch version\n",
    "print(\"Is cuda avialable:\", torch.cuda.is_available())"
   ]
  },
  {
   "cell_type": "markdown",
   "metadata": {},
   "source": [
    "## HuggingFace LLMs"
   ]
  },
  {
   "cell_type": "markdown",
   "metadata": {},
   "source": [
    "**For some LLMs on HuggingFace like Mistral, you first need to get access approval. So please follow these steps:**\n",
    "\n",
    "- First go to https://huggingface.co/docs/transformers/en/model_doc/mistral to get access.\n",
    "- Then go to the HuggingFace account and generate a new access token."
   ]
  },
  {
   "cell_type": "code",
   "execution_count": 12,
   "metadata": {},
   "outputs": [],
   "source": [
    "# Set your token here\n",
    "import os\n",
    "hf_token = os.getenv('HF_TOKEN')"
   ]
  },
  {
   "cell_type": "code",
   "execution_count": 14,
   "metadata": {},
   "outputs": [],
   "source": [
    "llms_info = {\n",
    "    \"Mistral-7B\": {# Size: 40 GB, system RAM: 19 GB (Windows)\n",
    "        \"remote_model_name\": \"mistralai/Mistral-7B-v0.1\",\n",
    "        \"model_path\": \"C:/Users/Admin/Desktop/LLMs/Mistral-7B-v0-1\",\n",
    "        \"tokenizer_path\": \"C:/Users/Admin/Desktop/Tokenizers/Mistral-7B-v0-1\",\n",
    "        \"hf_token\": hf_token,\n",
    "        \"additional_config\": {\n",
    "            \"torch_dtype\": \"auto\",\n",
    "            \"device\": \"auto\"\n",
    "        }\n",
    "    },\n",
    "    \"PHI-2\": {# Size: 15 GB, system RAM: 3 GB (Windows)\n",
    "        \"remote_model_name\": \"microsoft/phi-2\",\n",
    "        \"model_path\": \"C:/Users/Admin/Desktop/LLMs/PHI-2\",\n",
    "        \"tokenizer_path\": \"C:/Users/Admin/Desktop/Tokenizers/PHI-2\",\n",
    "        \"additional_config\": {\n",
    "            \"torch_dtype\": \"auto\",\n",
    "            \"trust_remote_code\": True,\n",
    "            \"device\": \"auto\"\n",
    "        }\n",
    "    }\n",
    "}"
   ]
  },
  {
   "cell_type": "code",
   "execution_count": 15,
   "metadata": {},
   "outputs": [],
   "source": [
    "import os\n",
    "from transformers import AutoModelForCausalLM, AutoTokenizer\n",
    "\n",
    "def load_model(model_key):\n",
    "    model_info = llms_info[model_key]\n",
    "    config = model_info[\"additional_config\"]\n",
    "\n",
    "    # Check if the directories for the model and tokenizer exist\n",
    "    model_dir_exists = os.path.isdir(model_info[\"model_path\"])\n",
    "    tokenizer_dir_exists = os.path.isdir(model_info[\"tokenizer_path\"])\n",
    "\n",
    "    if model_dir_exists and tokenizer_dir_exists:\n",
    "        print(f\"{model_key} model and tokenizer are already present.\")\n",
    "    else:\n",
    "        print(f\"Downloading and saving model and tokenizer for {model_key}.\")\n",
    "        # Include the token in the download process if applicable\n",
    "        hf_token = model_info.get(\"hf_token\", None)\n",
    "        model = AutoModelForCausalLM.from_pretrained(\n",
    "            model_info[\"remote_model_name\"],\n",
    "            cache_dir=model_info[\"model_path\"],\n",
    "            torch_dtype=getattr(torch, config[\"torch_dtype\"]) if config[\"torch_dtype\"] != \"auto\" else None,\n",
    "            use_auth_token=hf_token\n",
    "        )\n",
    "        tokenizer = AutoTokenizer.from_pretrained(\n",
    "            model_info[\"remote_model_name\"],\n",
    "            cache_dir=model_info[\"tokenizer_path\"],\n",
    "            use_auth_token=hf_token\n",
    "        )\n",
    "        # Ensure directories are created during download\n",
    "        if not model_dir_exists:\n",
    "            os.makedirs(model_info[\"model_path\"], exist_ok=True)\n",
    "        if not tokenizer_dir_exists:\n",
    "            os.makedirs(model_info[\"tokenizer_path\"], exist_ok=True)\n",
    "        # Save them locally\n",
    "        model.save_pretrained(model_info[\"model_path\"])\n",
    "        tokenizer.save_pretrained(model_info[\"tokenizer_path\"])\n",
    "\n",
    "    # Load model and tokenizer from local storage\n",
    "    model = AutoModelForCausalLM.from_pretrained(model_info[\"model_path\"])\n",
    "    tokenizer = AutoTokenizer.from_pretrained(model_info[\"tokenizer_path\"])\n",
    "    return model, tokenizer\n"
   ]
  },
  {
   "cell_type": "code",
   "execution_count": null,
   "metadata": {},
   "outputs": [],
   "source": [
    "model, tokenizer = load_model(\"PHI-2\")"
   ]
  },
  {
   "cell_type": "code",
   "execution_count": 17,
   "metadata": {},
   "outputs": [
    {
     "name": "stdout",
     "output_type": "stream",
     "text": [
      "Using device: cuda\n"
     ]
    }
   ],
   "source": [
    "import warnings\n",
    "\n",
    "warnings.filterwarnings(\"ignore\")\n",
    "\n",
    "device = torch.device(\"cuda\" if torch.cuda.is_available() else \"cpu\")\n",
    "print(f\"Using device: {device}\")"
   ]
  },
  {
   "cell_type": "code",
   "execution_count": 18,
   "metadata": {},
   "outputs": [],
   "source": [
    "def compute_diagnosis_score(prompt, model, tokenizer, device):\n",
    "\n",
    "    # Ensure that model and tokenizer are moved to the right device\n",
    "    model = model.to(device)\n",
    "\n",
    "    # Tokenize the input and ensure tensor is on the correct device\n",
    "    inputs = tokenizer(prompt, return_tensors=\"pt\").to(device)\n",
    "\n",
    "    # Generate output using the model\n",
    "    outputs = model.generate(**inputs, \n",
    "        max_new_tokens=30,                      # Limits the number of tokens generated\n",
    "        num_return_sequences=1,                 # Ensure only one sequence is generated\n",
    "        temperature=0.7,                        # Lower for more deterministic output\n",
    "        top_k=30,                               # Limits the number of top tokens considered\n",
    "        top_p=0.95                              # Uses nucleus sampling\n",
    "    )\n",
    "\n",
    "    # Decode the output\n",
    "    decoded_output = tokenizer.decode(outputs[0], skip_special_tokens=True)\n",
    "   \n",
    "    # Remove the prompt from the response\n",
    "    actual_response = decoded_output[len(prompt):].strip()\n",
    "\n",
    "    return actual_response\n"
   ]
  },
  {
   "cell_type": "code",
   "execution_count": 19,
   "metadata": {},
   "outputs": [
    {
     "name": "stderr",
     "output_type": "stream",
     "text": [
      "Setting `pad_token_id` to `eos_token_id`:50256 for open-end generation.\n"
     ]
    },
    {
     "name": "stdout",
     "output_type": "stream",
     "text": [
      "CPU times: total: 11.2 s\n",
      "Wall time: 38.4 s\n"
     ]
    }
   ],
   "source": [
    "%%time\n",
    "\n",
    "# Generating the response\n",
    "response = compute_diagnosis_score(sample_prompt, model, tokenizer, device)"
   ]
  },
  {
   "cell_type": "code",
   "execution_count": 20,
   "metadata": {},
   "outputs": [
    {
     "name": "stdout",
     "output_type": "stream",
     "text": [
      "The answer:\n",
      "{\n",
      "\"score\": 0.5\n",
      "}\n",
      "----------------------------------------------------------------------\n",
      "The following is a patient’s medical record. Context\n"
     ]
    }
   ],
   "source": [
    "print(response)"
   ]
  },
  {
   "cell_type": "markdown",
   "metadata": {},
   "source": [
    "*Answeres:*\n",
    "\n",
    "- PHI-2: \n",
    "    (In 38 seconds, around 3 GB RAM usage for loading)\n",
    "\n",
    "    The answer:\n",
    "    {\n",
    "    \"score\": 0.5\n",
    "    }\n",
    "    \n",
    "- Mistral-7b:\n",
    "    (In 4.3 minutes, around 19 GB RAM usage for loading)\n",
    "    \n",
    "    The answer is:\n",
    "    {\n",
    "    \"score\": 0.3\n",
    "    }\n",
    "    \n"
   ]
  },
  {
   "cell_type": "markdown",
   "metadata": {},
   "source": [
    "Based on the researchers results (result2000.txt), probably the answer should be 0.2."
   ]
  },
  {
   "cell_type": "markdown",
   "metadata": {},
   "source": [
    "## OpenAI LLMs"
   ]
  },
  {
   "cell_type": "code",
   "execution_count": 29,
   "metadata": {},
   "outputs": [],
   "source": [
    "# OPENAI_API_KEY=\"your-api-key\""
   ]
  },
  {
   "cell_type": "code",
   "execution_count": 44,
   "metadata": {},
   "outputs": [],
   "source": [
    "import openai\n",
    "\n",
    "def generate_answer(model, prompt):\n",
    "    try:\n",
    "        client = openai.OpenAI(api_key = OPENAI_API_KEY)\n",
    "        \n",
    "        # Generate a response from the model using the updated API\n",
    "        chat_completion = client.chat.completions.create(\n",
    "            model=model,  # Use appropriate model identifier, e.g., \"gpt-3.5-turbo\" or \"gpt-4.0-turbo\"\n",
    "            messages=[\n",
    "                {\"role\": \"system\", \"content\": \"You are a helpful assistant.\"},\n",
    "                {\"role\": \"user\", \"content\": prompt}\n",
    "            ]\n",
    "        )\n",
    "        \n",
    "        ## Retrieve and return the response text\n",
    "        response_text = chat_completion.choices[0].message.content\n",
    "        return response_text\n",
    "        \n",
    "    except Exception as e:\n",
    "        print(f\"An error occurred: {e}\")\n",
    "        return None\n"
   ]
  },
  {
   "cell_type": "code",
   "execution_count": 51,
   "metadata": {},
   "outputs": [
    {
     "name": "stdout",
     "output_type": "stream",
     "text": [
      "GPT-3 Answer: {\n",
      "  \"score\": 0.4\n",
      "}\n"
     ]
    }
   ],
   "source": [
    "# using GPT-3\n",
    "answer_gpt3 = generate_answer(\"gpt-3.5-turbo\", sample_prompt)\n",
    "print(\"GPT-3 Answer:\", answer_gpt3)"
   ]
  },
  {
   "cell_type": "code",
   "execution_count": 49,
   "metadata": {},
   "outputs": [
    {
     "name": "stdout",
     "output_type": "stream",
     "text": [
      "GPT-4 Answer: ```json\n",
      "{\n",
      "  \"score\": 0.1\n",
      "}\n",
      "```\n"
     ]
    }
   ],
   "source": [
    "# using GPT-4\n",
    "answer_gpt4 = generate_answer(\"gpt-4-turbo\", sample_prompt)\n",
    "print(\"GPT-4 Answer:\", answer_gpt4)"
   ]
  }
 ],
 "metadata": {
  "kernelspec": {
   "display_name": ".venv",
   "language": "python",
   "name": "python3"
  },
  "language_info": {
   "codemirror_mode": {
    "name": "ipython",
    "version": 3
   },
   "file_extension": ".py",
   "mimetype": "text/x-python",
   "name": "python",
   "nbconvert_exporter": "python",
   "pygments_lexer": "ipython3",
   "version": "3.11.9"
  }
 },
 "nbformat": 4,
 "nbformat_minor": 2
}
