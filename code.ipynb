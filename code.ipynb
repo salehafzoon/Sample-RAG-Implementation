{
 "cells": [
  {
   "cell_type": "markdown",
   "metadata": {},
   "source": [
    "# Installation"
   ]
  },
  {
   "cell_type": "code",
   "execution_count": null,
   "metadata": {},
   "outputs": [],
   "source": [
    "!pip install -r requirements.txt"
   ]
  },
  {
   "cell_type": "code",
   "execution_count": null,
   "metadata": {},
   "outputs": [],
   "source": [
    "pip install -i https://pypi.org/simple/ bitsandbytes"
   ]
  },
  {
   "cell_type": "code",
   "execution_count": 2,
   "metadata": {},
   "outputs": [
    {
     "name": "stdout",
     "output_type": "stream",
     "text": [
      "Python version: 3.11.9 | packaged by Anaconda, Inc. | (main, Apr 19 2024, 16:40:41) [MSC v.1916 64 bit (AMD64)]\n"
     ]
    }
   ],
   "source": [
    "import importlib.metadata\n",
    "import pickle\n",
    "import sys\n",
    "\n",
    "print('Python version:', sys.version)"
   ]
  },
  {
   "cell_type": "code",
   "execution_count": 3,
   "metadata": {},
   "outputs": [
    {
     "name": "stdout",
     "output_type": "stream",
     "text": [
      "llama-index : 0.10.30\n",
      "langchain : 0.1.16\n",
      "llama-index-embeddings-huggingface : 0.2.0\n",
      "llama_index.embeddings.langchain : 0.1.2\n"
     ]
    }
   ],
   "source": [
    "def print_package_version(package_name):\n",
    "    try:\n",
    "        version = importlib.metadata.version(package_name)\n",
    "        print(f\"{package_name} : {version}\")\n",
    "    except importlib.metadata.PackageNotFoundError:\n",
    "        print(f\"{package_name} is not installed.\")\n",
    "\n",
    "packages = [\n",
    "    \"llama-index\",\n",
    "    \"langchain\",\n",
    "    \"llama-index-embeddings-huggingface\",\n",
    "    \"llama_index.embeddings.langchain\"\n",
    "]\n",
    "\n",
    "for package in packages:\n",
    "    print_package_version(package)"
   ]
  },
  {
   "cell_type": "markdown",
   "metadata": {},
   "source": [
    "# Loading Documents"
   ]
  },
  {
   "cell_type": "markdown",
   "metadata": {},
   "source": [
    "Domain knowledge:"
   ]
  },
  {
   "cell_type": "code",
   "execution_count": 1,
   "metadata": {},
   "outputs": [
    {
     "name": "stdout",
     "output_type": "stream",
     "text": [
      "1. Irregular menstruation\n",
      "2. Sore throat\n",
      "3. Gastrointestinal disorders\n",
      "4. Bowel sounds\n",
      "5. Helicobacter infection\n",
      "6. Drowsiness\n",
      "7. Anemia\n",
      "8. Numbness of limbs\n",
      "9. Stomach pain\n",
      "10. Cramps\n",
      "11. Perianal pain\n",
      "12. Loose stools\n",
      "13. Swollen lymph nodes\n",
      "14. Bacterial infection\n",
      "15. Dysbiosis\n",
      "16. Shortness of breath\n",
      "17. Diarrhea, abdominal pain and bloating\n",
      "18. Frequency and urgency of urination\n",
      "19. Bitter mouth\n",
      "20. Allergies\n",
      "21. Indigestion\n",
      "22. Hemorrhoids\n",
      "23. Intestinal obstruction\n",
      "24. Melena\n",
      "25. Edema\n",
      "26. Dehydration\n",
      "27. Blood in the stool\n",
      "28. Heart palpitations\n",
      "29. Chest pain\n",
      "30. Chest pain\n",
      "31. Jaundice\n",
      "32. Reflux\n"
     ]
    }
   ],
   "source": [
    "import pickle\n",
    "\n",
    "with open('domain_knowledge.pkl', 'rb') as file:\n",
    "    domain_know = pickle.load(file)\n",
    "\n",
    "# Print each key\n",
    "for key in domain_know:\n",
    "    print(key)"
   ]
  },
  {
   "cell_type": "markdown",
   "metadata": {},
   "source": [
    "Disease List:"
   ]
  },
  {
   "cell_type": "code",
   "execution_count": 2,
   "metadata": {},
   "outputs": [
    {
     "name": "stdout",
     "output_type": "stream",
     "text": [
      "['Hunger', 'Abdominal bloating', 'Anemia', 'Bacterial infection', 'Weight loss', 'Loss of appetite', 'Mucus in stool', 'Menstrual irregularities', 'Diarrhea', 'Spasm', 'Throat burning sensation', 'Chest pain', 'Phlegm', 'Difficulty breathing', 'Jaundice', 'Hiccup', 'Sneeze', 'Hemorrhoids', 'Loose stools', 'Frequent urination', 'Headache', 'Urgent urination', 'Gastrointestinal discomfort', 'Shortness of breath', 'Chills', 'Heartburn', 'Sore throat', 'Nasal congestion', 'Indigestion', 'Back pain', 'Stomach ache', 'Perianal pain', 'Fatigue', 'Allergy', 'Bowel sounds', 'Cough', 'Dark stools', 'Vomiting', 'Muscle soreness', 'Dehydration', 'Intestinal obstruction', 'Nausea', 'Numbness in limbs', 'Fever', 'Restlessness', 'Vomiting blood', 'Dysbiosis', 'Drowsiness', 'Dizziness', 'Abdominal pain', 'Rectal bleeding', 'Palpitations', 'Mental fatigue', 'Helicobacter pylori infection', 'Reflux', 'Edema', 'Gastrointestinal dysfunction', 'Enlarged lymph nodes', 'Difficulty swallowing', 'Bitter taste in the mouth']\n"
     ]
    }
   ],
   "source": [
    "with open('disease_list.pkl', 'rb') as file:\n",
    "    disease_list = pickle.load(file)\n",
    "\n",
    "print(disease_list)"
   ]
  },
  {
   "cell_type": "markdown",
   "metadata": {},
   "source": [
    "# Retrieval & Prompt generation"
   ]
  },
  {
   "cell_type": "markdown",
   "metadata": {},
   "source": [
    "1- Creating the Diagnostic Questions:"
   ]
  },
  {
   "cell_type": "code",
   "execution_count": 3,
   "metadata": {},
   "outputs": [
    {
     "data": {
      "text/plain": [
       "['Does the person described in the case have Hunger symptoms? Do you think it is serious?',\n",
       " 'Does the person described in the case have Abdominal bloating symptoms? Do you think it is serious?',\n",
       " 'Does the person described in the case have Anemia symptoms? Do you think it is serious?',\n",
       " 'Does the person described in the case have Bacterial infection symptoms? Do you think it is serious?']"
      ]
     },
     "execution_count": 3,
     "metadata": {},
     "output_type": "execute_result"
    }
   ],
   "source": [
    "def diagnostic_queestion_gen(disease_list):\n",
    "\n",
    "  diagnostic_qs = [\n",
    "      f\"Does the person described in the case have {disease} symptoms? Do you think it is serious?\"\n",
    "      for disease in disease_list\n",
    "  ]\n",
    "  return diagnostic_qs\n",
    "\n",
    "diagnostic_queestions = diagnostic_queestion_gen(disease_list)\n",
    "diagnostic_queestions[:4]\n"
   ]
  },
  {
   "cell_type": "markdown",
   "metadata": {},
   "source": [
    "2- Retriving the most related domain knowledge:"
   ]
  },
  {
   "cell_type": "code",
   "execution_count": 4,
   "metadata": {},
   "outputs": [],
   "source": [
    "from sentence_transformers import SentenceTransformer\n",
    "\n",
    "model = SentenceTransformer(\"all-mpnet-base-v2\")"
   ]
  },
  {
   "cell_type": "code",
   "execution_count": 5,
   "metadata": {},
   "outputs": [],
   "source": [
    "import torch\n",
    "from sklearn.metrics.pairwise import cosine_similarity\n",
    "from sentence_transformers import SentenceTransformer\n",
    "\n",
    "def retrieval_know(diag_q, domain_know, k):\n",
    "    model = SentenceTransformer(\"all-mpnet-base-v2\")\n",
    "\n",
    "    # Encode the diagnostic question\n",
    "    diag_q_emb = model.encode(diag_q)\n",
    "\n",
    "    # Prepare to store domain knowledge embeddings and their corresponding keys\n",
    "    domain_know_embs = []\n",
    "    symptom_names = list(domain_know.keys())\n",
    "\n",
    "    # Encode each paragraph of domain knowledge\n",
    "    for symptom in symptom_names:\n",
    "        emb = model.encode(domain_know[symptom])\n",
    "        domain_know_embs.append(emb)\n",
    "\n",
    "    # Calculate cosine similarity between the diagnostic question and each domain knowledge embedding\n",
    "    similarities = cosine_similarity([diag_q_emb], domain_know_embs)[0]\n",
    "\n",
    "    # Get the indices of the top-k most similar paragraphs\n",
    "    top_indices = similarities.argsort()[-k:][::-1]\n",
    "\n",
    "    # Retrieve the top-k most similar paragraphs using the indices\n",
    "    top_symptoms = [(symptom_names[idx], domain_know[symptom_names[idx]], similarities[idx]) for idx in top_indices]\n",
    "\n",
    "    return top_symptoms\n",
    "\n"
   ]
  },
  {
   "cell_type": "code",
   "execution_count": 6,
   "metadata": {},
   "outputs": [
    {
     "name": "stdout",
     "output_type": "stream",
     "text": [
      "Symptom: 3. Gastrointestinal disorders, Similarity: 0.45307421684265137\n",
      "Text: It is a type of gastrointestinal disease. Some patients often do not pay enough attention to it and do not go to the hospital for diagnosis and treatment in time, causing great harm to themselves. So, what are gastrointestinal disorders? What are the symptoms of gastrointestinal disorders? A doctor from Chongqing Dongda Anorectal Hospital said that gastrointestinal dysfunction, also known as gastrointestinal neurosis, is a functional disease. It is generally believed that mental factors are the main causes of this disease, such as emotional stress, anxiety, difficulties in life and work, worries, accidents, etc., which can lead to abnormal gastrointestinal function and further cause gastrointestinal dysfunction. Most gastrointestinal disorders have a slow onset, often last for years, and may be persistent or recurring. People suffering from gastrointestinal disorders often present with acid reflux, belching, anorexia, nausea, vomiting, burning sensation under the chest, bloating after eating, and obvious upper abdominal discomfort or pain. Such symptoms will be significantly aggravated when mood changes. Why you suffer from gastrointestinal dysfunction: (1) Diet. Excessive diet, irritating food, unclean diet, indigestible food, allergic food, hard food and unsuitable food may induce or aggravate gastrointestinal dysfunction. Food is a common cause of gastrointestinal dysfunction. (2) Catching cold can easily induce and aggravate gastrointestinal spasms. Especially emaciated people are prone to catching cold. Some people are particularly sensitive to cold. Turning on a little air conditioning in summer, staying in a north-facing room or sitting on a cold bench in winter will all cause problems. Abdominal pain, borborygmi, and diarrhea occur. (3) Work. Excessive fatigue, heavy tasks, overloaded movements; long-term work pressure, fatigue, overtime, etc., insufficient rest time and irregular life, irregular meals, skipping breakfast in the morning, staying up late, etc., over time, gastrointestinal function will occur disorder. Harm of gastrointestinal dysfunction: Symptoms such as gastric bloating, burping, acidity, and heartburn may occur; frequent diarrhea can reduce the body’s resistance and weaken the body’s resistance to infectious diseases and various infections; repeated diarrhea can stimulate Intestinal mucosa can cause intestinal mucosal lesions, such as transforming into ulcerative colitis or even malignant transformation; it seriously affects the patient's quality of life and has a certain impact on the patient's life and work. Some patients even dare not do so due to frequent abdominal pain and diarrhea. Or unable to go to work normally; gastrointestinal dysfunction can cause malabsorption of nutrients, anemia and vitamin deficiency.\n",
      "\n",
      "Symptom: 32. Reflux, Similarity: 0.31067904829978943\n",
      "Text: Reflux is the backflow of stomach acid and digestive juices from the stomach into the esophagus. This condition may cause damage to the esophageal mucosa, causing pain and discomfort. Common reflux symptoms include a burning sensation in the chest, a sour or bitter taste in the back of the mouth, cough, and sore throat. Gastroesophageal reflux disease (GERD) is a chronic acid reflux disease that may cause inflammation and damage to the esophagus. The causes of GERD include gastroptosis, esophageal sphincter relaxation, and abnormal esophageal peristalsis function. Here are some common ways to diagnose and treat gastroesophageal reflux disease: Diagnosis: History and Symptom Assessment: Your doctor will ask about your symptoms and medical history, such as a burning sensation in your chest, a sour taste after the flu, etc. Physical exam: Your doctor may perform a physical exam to rule out other possible illnesses. Examination: such as gastroscopy, esophageal acidity measurement, X-ray examination, etc. to evaluate the condition of the esophagus and stomach.\n",
      "\n"
     ]
    }
   ],
   "source": [
    "# Example usage:\n",
    "\n",
    "diag_q = diagnostic_queestions[0]\n",
    "\n",
    "k = 2\n",
    "\n",
    "results = retrieval_know(diag_q, domain_know, k)\n",
    "\n",
    "for symptom, text, similarity in results:\n",
    "    print(f\"Symptom: {symptom}, Similarity: {similarity}\\nText: {text}\\n\")"
   ]
  },
  {
   "cell_type": "code",
   "execution_count": 7,
   "metadata": {},
   "outputs": [
    {
     "data": {
      "text/plain": [
       "\"Hello, there is a pain around the navel, I don’t know what's going on (female, 29 years old)\\nHello, how long has this situation?\\nTwo or three days.\\nIt hurts, and it will not hurt for a while.\\nHave you used any medicine?Have you ever done?\\nThere is no medication and no examination.\\nIs the stool normal?\\nnormal.\\nAre there any other symptoms?Do you want to vomit?\\nNo.\\nIs it faint pain?\\nOnce appetite, a little bit bloated.\\nIt may be gastrointestinal dysfunction.\\nYes, faint pain.\\nEat some song Meibing Try.relative.\\nIt felt like a needle was tied, and it was fine for a few seconds.\\nIt feels that the problem is not particularly big.\\nTry it if you take the medicine I said.\\nIs there a compound fairy crane grassyitis tablet at home?\\nThis is mainly to treat diarrhea.Don't eat without diarrhea.\\nOh, alright.\\nUh-huh.\\nWhich aspect can cause gastrointestinal function.\\nIt may be that the diet may be a mental factor or the autoimmune system.\\nIt may also be the digestive system of autoimmune system.relative.\\nOK\\nUh-huh.\\nIt seemed a bit like a diarrhea. After eating 1 at noon, I wanted to pull it after a while, and I was a little bit pulled.\\nYou can eat the medicine you said.\\nOh well.\\nUh-huh.\""
      ]
     },
     "execution_count": 7,
     "metadata": {},
     "output_type": "execute_result"
    }
   ],
   "source": [
    "with open(\"./dataset_folder/health_report_{0}/health_report_{0}.txt\", 'r', encoding='utf-8') as file:\n",
    "  medical_report = file.read()\n",
    "\n",
    "medical_report"
   ]
  },
  {
   "cell_type": "code",
   "execution_count": 8,
   "metadata": {},
   "outputs": [
    {
     "name": "stdout",
     "output_type": "stream",
     "text": [
      "Prompt generating for: ./dataset_folder/health_report_{0}/health_report_{0}.txt\n",
      "Here is some additional professional health knowledge that can help you better analyze the report:\n",
      "----------------------------------------------------------------------\n",
      "3. Gastrointestinal disorders: It is a type of gastrointestinal disease. Some patients often do not pay enough attention to it and do not go to the hospital for diagnosis and treatment in time, causing great harm to themselves. So, what are gastrointestinal disorders? What are the symptoms of gastrointestinal disorders? A doctor from Chongqing Dongda Anorectal Hospital said that gastrointestinal dysfunction, also known as gastrointestinal neurosis, is a functional disease. It is generally believed that mental factors are the main causes of this disease, such as emotional stress, anxiety, difficulties in life and work, worries, accidents, etc., which can lead to abnormal gastrointestinal function and further cause gastrointestinal dysfunction. Most gastrointestinal disorders have a slow onset, often last for years, and may be persistent or recurring. People suffering from gastrointestinal disorders often present with acid reflux, belching, anorexia, nausea, vomiting, burning sensation under the chest, bloating after eating, and obvious upper abdominal discomfort or pain. Such symptoms will be significantly aggravated when mood changes. Why you suffer from gastrointestinal dysfunction: (1) Diet. Excessive diet, irritating food, unclean diet, indigestible food, allergic food, hard food and unsuitable food may induce or aggravate gastrointestinal dysfunction. Food is a common cause of gastrointestinal dysfunction. (2) Catching cold can easily induce and aggravate gastrointestinal spasms. Especially emaciated people are prone to catching cold. Some people are particularly sensitive to cold. Turning on a little air conditioning in summer, staying in a north-facing room or sitting on a cold bench in winter will all cause problems. Abdominal pain, borborygmi, and diarrhea occur. (3) Work. Excessive fatigue, heavy tasks, overloaded movements; long-term work pressure, fatigue, overtime, etc., insufficient rest time and irregular life, irregular meals, skipping breakfast in the morning, staying up late, etc., over time, gastrointestinal function will occur disorder. Harm of gastrointestinal dysfunction: Symptoms such as gastric bloating, burping, acidity, and heartburn may occur; frequent diarrhea can reduce the body’s resistance and weaken the body’s resistance to infectious diseases and various infections; repeated diarrhea can stimulate Intestinal mucosa can cause intestinal mucosal lesions, such as transforming into ulcerative colitis or even malignant transformation; it seriously affects the patient's quality of life and has a certain impact on the patient's life and work. Some patients even dare not do so due to frequent abdominal pain and diarrhea. Or unable to go to work normally; gastrointestinal dysfunction can cause malabsorption of nutrients, anemia and vitamin deficiency.\n",
      "32. Reflux: Reflux is the backflow of stomach acid and digestive juices from the stomach into the esophagus. This condition may cause damage to the esophageal mucosa, causing pain and discomfort. Common reflux symptoms include a burning sensation in the chest, a sour or bitter taste in the back of the mouth, cough, and sore throat. Gastroesophageal reflux disease (GERD) is a chronic acid reflux disease that may cause inflammation and damage to the esophagus. The causes of GERD include gastroptosis, esophageal sphincter relaxation, and abnormal esophageal peristalsis function. Here are some common ways to diagnose and treat gastroesophageal reflux disease: Diagnosis: History and Symptom Assessment: Your doctor will ask about your symptoms and medical history, such as a burning sensation in your chest, a sour taste after the flu, etc. Physical exam: Your doctor may perform a physical exam to rule out other possible illnesses. Examination: such as gastroscopy, esophageal acidity measurement, X-ray examination, etc. to evaluate the condition of the esophagus and stomach.\n",
      "----------------------------------------------------------------------\n",
      "This is a patient’s medical record. Context information:\n",
      "----------------------------------------------------------------------\n",
      "Hello, there is a pain around the navel, I don’t know what's going on (female, 29 years old)\n",
      "Hello, how long has this situation?\n",
      "Two or three days.\n",
      "It hurts, and it will not hurt for a while.\n",
      "Have you used any medicine?Have you ever done?\n",
      "There is no medication and no examination.\n",
      "Is the stool normal?\n",
      "normal.\n",
      "Are there any other symptoms?Do you want to vomit?\n",
      "No.\n",
      "Is it faint pain?\n",
      "Once appetite, a little bit bloated.\n",
      "It may be gastrointestinal dysfunction.\n",
      "Yes, faint pain.\n",
      "Eat some song Meibing Try.relative.\n",
      "It felt like a needle was tied, and it was fine for a few seconds.\n",
      "It feels that the problem is not particularly big.\n",
      "Try it if you take the medicine I said.\n",
      "Is there a compound fairy crane grassyitis tablet at home?\n",
      "This is mainly to treat diarrhea.Don't eat without diarrhea.\n",
      "Oh, alright.\n",
      "Uh-huh.\n",
      "Which aspect can cause gastrointestinal function.\n",
      "It may be that the diet may be a mental factor or the autoimmune system.\n",
      "It may also be the digestive system of autoimmune system.relative.\n",
      "OK\n",
      "Uh-huh.\n",
      "It seemed a bit like a diarrhea. After eating 1 at noon, I wanted to pull it after a while, and I was a little bit pulled.\n",
      "You can eat the medicine you said.\n",
      "Oh well.\n",
      "Uh-huh.\n",
      "----------------------------------------------------------------------\n",
      "Given the context and health knowledge, answer the below question by only one answer in JSON format with only one floating point number between 0 and 1 that is “score”. :\n",
      "Does the person described in the case have Hunger symptoms? Do you think it is serious?\n",
      "The rule of the JSON answer: 0-0.2 is mild or none, 0.3-0.6 is moderate, and above 0.7 is severe.\n",
      "\n"
     ]
    }
   ],
   "source": [
    "def generate_prompt(patient_id, domain_know, diag_q, k):\n",
    "    patient_id_str = str(patient_id)\n",
    "    # Construct the file path\n",
    "    sample_report_path = f\"./dataset_folder/health_report_{{{patient_id_str}}}/health_report_{{{patient_id_str}}}.txt\"\n",
    "    print(\"Prompt generating for:\", sample_report_path)  # Debugging line\n",
    "\n",
    "    # Read the medical report from the file\n",
    "    try:\n",
    "        with open(sample_report_path, 'r', encoding='utf-8') as file:\n",
    "            medical_report = file.read()\n",
    "    except FileNotFoundError:\n",
    "        return \"Error: The medical report file was not found.\"\n",
    "    except Exception as e:\n",
    "        return f\"Error: {str(e)}\"\n",
    "\n",
    "    # This should be replaced with actual function call and processing if needed\n",
    "    # Here, I just simulate the output format of the retrieval_know function\n",
    "    related_documents = retrieval_know(diag_q, domain_know, k)\n",
    "    related_knowledge = \"\\n\".join([f\"{doc[0]}: {doc[1]}\" for doc in related_documents])\n",
    "\n",
    "    # Assemble the prompt\n",
    "    prompt = (\n",
    "        \"Here is some additional professional health knowledge that can help you better analyze the report:\\n\"\n",
    "        \"----------------------------------------------------------------------\\n\"\n",
    "        f\"{related_knowledge}\\n\"\n",
    "        \"----------------------------------------------------------------------\\n\"\n",
    "        \"This is a patient’s medical record. Context information:\\n\"\n",
    "        \"----------------------------------------------------------------------\\n\"\n",
    "        f\"{medical_report}\\n\"\n",
    "        \"----------------------------------------------------------------------\\n\"\n",
    "        \"Given the context and health knowledge, answer the below question by only one answer in JSON format with only one floating point number between 0 and 1 that is “score”. :\\n\"\n",
    "        f\"{diag_q}\\n\"\n",
    "        \"The rule of the JSON answer: 0-0.2 is mild or none, 0.3-0.6 is moderate, and above 0.7 is severe.\\n\"\n",
    "    )\n",
    "\n",
    "    return prompt\n",
    "\n",
    "\n",
    "# Example usage\n",
    "patient_id = 0\n",
    "diag_q = diagnostic_queestions[0]\n",
    "k = 2\n",
    "\n",
    "prompt = generate_prompt(patient_id, domain_know, diag_q, k)\n",
    "print(prompt)\n"
   ]
  },
  {
   "cell_type": "markdown",
   "metadata": {},
   "source": [
    "# Response Generation "
   ]
  },
  {
   "cell_type": "markdown",
   "metadata": {},
   "source": [
    "**If your torch can't detect you GPU, execute this in the terminal:**\n",
    "\n",
    "- pip uninstall torch torchvision torchaudio\n",
    "- pip install torch torchvision torchaudio --index-url https://download.pytorch.org/whl/cu121"
   ]
  },
  {
   "cell_type": "code",
   "execution_count": 9,
   "metadata": {},
   "outputs": [
    {
     "name": "stdout",
     "output_type": "stream",
     "text": [
      "Requirement already satisfied: gputil in c:\\users\\admin\\desktop\\projects\\sample-rag-implementation\\.conda\\lib\\site-packages (1.4.0)\n",
      "Note: you may need to restart the kernel to use updated packages.\n"
     ]
    }
   ],
   "source": [
    "pip install gputil"
   ]
  },
  {
   "cell_type": "code",
   "execution_count": 15,
   "metadata": {},
   "outputs": [
    {
     "name": "stdout",
     "output_type": "stream",
     "text": [
      "GPU Model: NVIDIA GeForce RTX 3060\n",
      "Total GPU Memory: 12.00 GB\n"
     ]
    }
   ],
   "source": [
    "import GPUtil\n",
    "\n",
    "for gpu in GPUtil.getGPUs():\n",
    "    print(f\"GPU Model: {gpu.name}\")\n",
    "    print(f\"Total GPU Memory: {gpu.memoryTotal / 1024:.2f} GB\")\n"
   ]
  },
  {
   "cell_type": "code",
   "execution_count": 11,
   "metadata": {},
   "outputs": [
    {
     "name": "stdout",
     "output_type": "stream",
     "text": [
      "torch + cuda: 2.2.2+cu121\n",
      "Is cuda avialable: True\n"
     ]
    }
   ],
   "source": [
    "import torch\n",
    "\n",
    "print(\"torch + cuda:\", torch.__version__) # Check PyTorch version\n",
    "print(\"Is cuda avialable:\", torch.cuda.is_available())"
   ]
  },
  {
   "cell_type": "markdown",
   "metadata": {},
   "source": [
    "## HuggingFace LLMs"
   ]
  },
  {
   "cell_type": "markdown",
   "metadata": {},
   "source": [
    "**For some LLMs on HuggingFace like Mistral, you first need to get access approval. So please follow these steps:**\n",
    "\n",
    "- First go to https://huggingface.co/docs/transformers/en/model_doc/mistral to get access.\n",
    "- Then go to the HuggingFace account and generate a new access token."
   ]
  },
  {
   "cell_type": "code",
   "execution_count": 12,
   "metadata": {},
   "outputs": [],
   "source": [
    "# Set your token here\n",
    "import os\n",
    "hf_token = os.getenv('HF_TOKEN')"
   ]
  },
  {
   "cell_type": "code",
   "execution_count": 13,
   "metadata": {},
   "outputs": [],
   "source": [
    "llms_info = {\n",
    "    \"Mistral-7B\": {# Size: 40 GB, system RAM: 19 GB (Windows)\n",
    "        \"remote_model_name\": \"mistralai/Mistral-7B-v0.1\",\n",
    "        \"model_path\": \"C:/Users/Admin/Desktop/LLMs/Mistral-7B-v0-1\",\n",
    "        \"tokenizer_path\": \"C:/Users/Admin/Desktop/Tokenizers/Mistral-7B-v0-1\",\n",
    "        \"hf_token\": hf_token,\n",
    "        \"additional_config\": {\n",
    "            \"torch_dtype\": \"auto\",\n",
    "            \"device\": \"auto\"\n",
    "        }\n",
    "    },\n",
    "    \"PHI-2\": {# Size: 15 GB, system RAM: 3 GB (Windows)\n",
    "        \"remote_model_name\": \"microsoft/phi-2\",\n",
    "        \"model_path\": \"C:/Users/Admin/Desktop/LLMs/PHI-2\",\n",
    "        \"tokenizer_path\": \"C:/Users/Admin/Desktop/Tokenizers/PHI-2\",\n",
    "        \"additional_config\": {\n",
    "            \"torch_dtype\": \"auto\",\n",
    "            \"trust_remote_code\": True,\n",
    "            \"device\": \"auto\"\n",
    "        }\n",
    "    }\n",
    "}"
   ]
  },
  {
   "cell_type": "code",
   "execution_count": 14,
   "metadata": {},
   "outputs": [],
   "source": [
    "import os\n",
    "from transformers import AutoModelForCausalLM, AutoTokenizer\n",
    "\n",
    "def load_model(model_key):\n",
    "    model_info = llms_info[model_key]\n",
    "    config = model_info[\"additional_config\"]\n",
    "\n",
    "    # Check if the directories for the model and tokenizer exist\n",
    "    model_dir_exists = os.path.isdir(model_info[\"model_path\"])\n",
    "    tokenizer_dir_exists = os.path.isdir(model_info[\"tokenizer_path\"])\n",
    "\n",
    "    if model_dir_exists and tokenizer_dir_exists:\n",
    "        print(f\"{model_key} model and tokenizer are already present.\")\n",
    "    else:\n",
    "        print(f\"Downloading and saving model and tokenizer for {model_key}.\")\n",
    "        # Include the token in the download process if applicable\n",
    "        hf_token = model_info.get(\"hf_token\", None)\n",
    "        model = AutoModelForCausalLM.from_pretrained(\n",
    "            model_info[\"remote_model_name\"],\n",
    "            cache_dir=model_info[\"model_path\"],\n",
    "            torch_dtype=getattr(torch, config[\"torch_dtype\"]) if config[\"torch_dtype\"] != \"auto\" else None,\n",
    "            use_auth_token=hf_token\n",
    "        )\n",
    "        tokenizer = AutoTokenizer.from_pretrained(\n",
    "            model_info[\"remote_model_name\"],\n",
    "            cache_dir=model_info[\"tokenizer_path\"],\n",
    "            use_auth_token=hf_token\n",
    "        )\n",
    "        # Ensure directories are created during download\n",
    "        if not model_dir_exists:\n",
    "            os.makedirs(model_info[\"model_path\"], exist_ok=True)\n",
    "        if not tokenizer_dir_exists:\n",
    "            os.makedirs(model_info[\"tokenizer_path\"], exist_ok=True)\n",
    "        # Save them locally\n",
    "        model.save_pretrained(model_info[\"model_path\"])\n",
    "        tokenizer.save_pretrained(model_info[\"tokenizer_path\"])\n",
    "\n",
    "    # Load model and tokenizer from local storage\n",
    "    model = AutoModelForCausalLM.from_pretrained(model_info[\"model_path\"])\n",
    "    tokenizer = AutoTokenizer.from_pretrained(model_info[\"tokenizer_path\"])\n",
    "    return model, tokenizer\n"
   ]
  },
  {
   "cell_type": "code",
   "execution_count": 16,
   "metadata": {},
   "outputs": [
    {
     "name": "stdout",
     "output_type": "stream",
     "text": [
      "PHI-2 model and tokenizer are already present.\n"
     ]
    },
    {
     "data": {
      "application/vnd.jupyter.widget-view+json": {
       "model_id": "ba0c28c13d7b4cef99d3e9e8e3e1dff1",
       "version_major": 2,
       "version_minor": 0
      },
      "text/plain": [
       "Loading checkpoint shards:   0%|          | 0/3 [00:00<?, ?it/s]"
      ]
     },
     "metadata": {},
     "output_type": "display_data"
    },
    {
     "name": "stderr",
     "output_type": "stream",
     "text": [
      "Special tokens have been added in the vocabulary, make sure the associated word embeddings are fine-tuned or trained.\n"
     ]
    }
   ],
   "source": [
    "model, tokenizer = load_model(\"PHI-2\")"
   ]
  },
  {
   "cell_type": "code",
   "execution_count": 17,
   "metadata": {},
   "outputs": [
    {
     "name": "stdout",
     "output_type": "stream",
     "text": [
      "Using device: cuda\n"
     ]
    }
   ],
   "source": [
    "import warnings\n",
    "\n",
    "warnings.filterwarnings(\"ignore\")\n",
    "\n",
    "device = torch.device(\"cuda\" if torch.cuda.is_available() else \"cpu\")\n",
    "print(f\"Using device: {device}\")"
   ]
  },
  {
   "cell_type": "code",
   "execution_count": 18,
   "metadata": {},
   "outputs": [],
   "source": [
    "def compute_diagnosis_score(prompt, model, tokenizer, device):\n",
    "\n",
    "    # Ensure that model and tokenizer are moved to the right device\n",
    "    model = model.to(device)\n",
    "\n",
    "    # Tokenize the input and ensure tensor is on the correct device\n",
    "    inputs = tokenizer(prompt, return_tensors=\"pt\").to(device)\n",
    "\n",
    "    # Generate output using the model\n",
    "    outputs = model.generate(**inputs, \n",
    "        max_new_tokens=30,                      # Limits the number of tokens generated\n",
    "        num_return_sequences=1,                 # Ensure only one sequence is generated\n",
    "        temperature=0.7,                        # Lower for more deterministic output\n",
    "        top_k=30,                               # Limits the number of top tokens considered\n",
    "        top_p=0.95                              # Uses nucleus sampling\n",
    "    )\n",
    "\n",
    "    # Decode the output\n",
    "    decoded_output = tokenizer.decode(outputs[0], skip_special_tokens=True)\n",
    "   \n",
    "    # Remove the prompt from the response\n",
    "    actual_response = decoded_output[len(prompt):].strip()\n",
    "\n",
    "    return actual_response\n"
   ]
  },
  {
   "cell_type": "code",
   "execution_count": 19,
   "metadata": {},
   "outputs": [
    {
     "name": "stderr",
     "output_type": "stream",
     "text": [
      "Setting `pad_token_id` to `eos_token_id`:50256 for open-end generation.\n"
     ]
    },
    {
     "name": "stdout",
     "output_type": "stream",
     "text": [
      "CPU times: total: 11.2 s\n",
      "Wall time: 38.4 s\n"
     ]
    }
   ],
   "source": [
    "%%time\n",
    "\n",
    "# Generating the response\n",
    "response = compute_diagnosis_score(prompt, model, tokenizer, device)"
   ]
  },
  {
   "cell_type": "code",
   "execution_count": 20,
   "metadata": {},
   "outputs": [
    {
     "name": "stdout",
     "output_type": "stream",
     "text": [
      "The answer:\n",
      "{\n",
      "\"score\": 0.5\n",
      "}\n",
      "----------------------------------------------------------------------\n",
      "The following is a patient’s medical record. Context\n"
     ]
    }
   ],
   "source": [
    "print(response)"
   ]
  },
  {
   "cell_type": "markdown",
   "metadata": {},
   "source": [
    "*Answeres:*\n",
    "\n",
    "- PHI-2: \n",
    "    (In 38 seconds, around 3 GB RAM usage for loading)\n",
    "\n",
    "    The answer:\n",
    "    {\n",
    "    \"score\": 0.5\n",
    "    }\n",
    "    \n",
    "- Mistral-7b:\n",
    "    (In 4.3 minutes, around 19 GB RAM usage for loading)\n",
    "    \n",
    "    The answer is:\n",
    "    {\n",
    "    \"score\": 0.3\n",
    "    }\n",
    "    \n"
   ]
  },
  {
   "cell_type": "markdown",
   "metadata": {},
   "source": [
    "Based on the researchers results (result2000.txt), probably the answer should be 0.2."
   ]
  },
  {
   "cell_type": "markdown",
   "metadata": {},
   "source": [
    "### OpenAI"
   ]
  }
 ],
 "metadata": {
  "kernelspec": {
   "display_name": ".venv",
   "language": "python",
   "name": "python3"
  },
  "language_info": {
   "codemirror_mode": {
    "name": "ipython",
    "version": 3
   },
   "file_extension": ".py",
   "mimetype": "text/x-python",
   "name": "python",
   "nbconvert_exporter": "python",
   "pygments_lexer": "ipython3",
   "version": "3.11.9"
  }
 },
 "nbformat": 4,
 "nbformat_minor": 2
}
